ls
import pandas as pd
data = pd.read_csv('Salary_dataset.csv')
data.head()
